{
 "cells": [
  {
   "attachments": {},
   "cell_type": "markdown",
   "metadata": {},
   "source": [
    "## JSON 파일 읽고 쓰기\n",
    "### Json 읽기\n",
    "모듈 불러오기\n",
    "\n",
    "```python\n",
    "import json\n",
    "```"
   ]
  },
  {
   "cell_type": "code",
   "execution_count": 26,
   "metadata": {},
   "outputs": [
    {
     "name": "stdout",
     "output_type": "stream",
     "text": [
      "{\"ionic\": {\"price\": 20000000, \"year\": \"2022\"}, \"genesis\": {\"price\": 80000000, \"year\": \"2021\"}, \"BMW\": {\"price\": 150000000, \"year\": \"2019\"}}\n"
     ]
    }
   ],
   "source": [
    "import json\n",
    "\n",
    "file = open('./test.json', 'r', encoding = 'utf-8')\n",
    "jsondata = json.load(file)\n",
    "print(json.dumps(jsondata))\n",
    "\n",
    "file.close() # 이 방식은 파일을 오픈하면 close를 꼭 해줘야한다."
   ]
  },
  {
   "cell_type": "code",
   "execution_count": 50,
   "metadata": {},
   "outputs": [
    {
     "name": "stdout",
     "output_type": "stream",
     "text": [
      "{\n",
      "\t\"ionic\": {\n",
      "\t\t\"price\": 20000000,\n",
      "\t\t\"year\": \"2022\"\n",
      "\t},\n",
      "\t\"genesis\": {\n",
      "\t\t\"price\": 80000000,\n",
      "\t\t\"year\": \"2021\"\n",
      "\t},\n",
      "\t\"BMW\": {\n",
      "\t\t\"price\": 150000000,\n",
      "\t\t\"year\": \"2019\"\n",
      "\t}\n",
      "}\n"
     ]
    }
   ],
   "source": [
    "with open('./test.json', 'r', encoding = 'utf-8') as f:\n",
    "    jdata = json.load(f) # 이 구문은 파일이 열려있는 동안 실행이 되는 것이다.\n",
    "\n",
    "\n",
    "print(json.dumps(jdata, indent = '\\t')) # indent !,\n",
    "# 한글이 있는 경우(', ensure_ascii = False' 넣기)"
   ]
  },
  {
   "attachments": {},
   "cell_type": "markdown",
   "metadata": {},
   "source": [
    "## Json 파일 값 읽기"
   ]
  },
  {
   "cell_type": "code",
   "execution_count": 43,
   "metadata": {},
   "outputs": [
    {
     "data": {
      "text/plain": [
       "'2021'"
      ]
     },
     "execution_count": 43,
     "metadata": {},
     "output_type": "execute_result"
    }
   ],
   "source": [
    "jdata['genesis']['year'] # 하나의 키만 볼 수 있음, genesis라는 키에 있는 price 값"
   ]
  },
  {
   "attachments": {},
   "cell_type": "markdown",
   "metadata": {},
   "source": [
    "## Json 파일 수정하기"
   ]
  },
  {
   "cell_type": "code",
   "execution_count": 47,
   "metadata": {},
   "outputs": [
    {
     "name": "stdout",
     "output_type": "stream",
     "text": [
      "{'ionic': {'price': 20000000, 'year': '2022'}, 'genesis': {'price': 95000000, 'year': '2021'}, 'BMW': {'price': 150000000, 'year': '2019'}}\n"
     ]
    }
   ],
   "source": [
    "jdata['genesis']['price'] = 95000000\n",
    "print(jdata)"
   ]
  },
  {
   "attachments": {},
   "cell_type": "markdown",
   "metadata": {},
   "source": [
    "## Json 파일 저장하기"
   ]
  },
  {
   "cell_type": "code",
   "execution_count": 51,
   "metadata": {},
   "outputs": [],
   "source": [
    "with open('./test2.json', 'w', encoding = 'utf-8') as file:\n",
    "    json.dump(jdata, file, indent = '\\t')\n",
    "    # 내용에 한글이 있으면\n",
    "    # json.dump(jdata, file, indent = '\\t', ensure_ascii = False)\n",
    "    # 파일을 새로 만들어서 저장하는 방법"
   ]
  },
  {
   "attachments": {},
   "cell_type": "markdown",
   "metadata": {},
   "source": [
    "### Json 파일 쓰기"
   ]
  },
  {
   "cell_type": "code",
   "execution_count": 61,
   "metadata": {},
   "outputs": [
    {
     "name": "stdout",
     "output_type": "stream",
     "text": [
      "{\n",
      "\t\"audi\": {\n",
      "\t\t\"price\": \"3억\",\n",
      "\t\t\"year\": \"2020\"\n",
      "\t},\n",
      "\t\"porsche\": {\n",
      "\t\t\"price\": 15000000000,\n",
      "\t\t\"year\": \"2016\"\n",
      "\t}\n",
      "}\n"
     ]
    }
   ],
   "source": [
    "import json\n",
    "\n",
    "supercars = dict() # 딕셔너리 생성\n",
    "\n",
    "audi = dict()\n",
    "audi['price'] = '3억'\n",
    "audi['year'] = '2020'\n",
    "supercars['audi'] = audi\n",
    "\n",
    "porsche = dict()\n",
    "porsche['price'] = 15000000000\n",
    "porsche['year'] = '2016'\n",
    "supercars['porsche'] = porsche\n",
    "\n",
    "# Json 파일 저장\n",
    "with open('./supercars.json', 'w', encoding = 'utf-8') as file:\n",
    "    json.dump(supercars, file, indent = '\\t', ensure_ascii=False)\n",
    "\n",
    "# Json 파일 로드\n",
    "with open('./supercars.json', 'r', encoding = 'utf-8') as file:\n",
    "    json_data = json.load(file)\n",
    "\n",
    "print(json.dumps(json_data, indent = '\\t', ensure_ascii=False))\n",
    "\n"
   ]
  }
 ],
 "metadata": {
  "kernelspec": {
   "display_name": "venv",
   "language": "python",
   "name": "python3"
  },
  "language_info": {
   "codemirror_mode": {
    "name": "ipython",
    "version": 3
   },
   "file_extension": ".py",
   "mimetype": "text/x-python",
   "name": "python",
   "nbconvert_exporter": "python",
   "pygments_lexer": "ipython3",
   "version": "3.11.1"
  },
  "orig_nbformat": 4,
  "vscode": {
   "interpreter": {
    "hash": "1732cc55dde7803caebda0df0f1738cc035ced225322b7cf344f368c2c40d995"
   }
  }
 },
 "nbformat": 4,
 "nbformat_minor": 2
}
